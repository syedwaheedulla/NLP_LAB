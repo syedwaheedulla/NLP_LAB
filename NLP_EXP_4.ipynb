{
  "nbformat": 4,
  "nbformat_minor": 0,
  "metadata": {
    "colab": {
      "provenance": []
    },
    "kernelspec": {
      "name": "python3",
      "display_name": "Python 3"
    },
    "language_info": {
      "name": "python"
    }
  },
  "cells": [
    {
      "cell_type": "code",
      "source": [
        "import nltk\n",
        "from nltk import word_tokenize, pos_tag, ne_chunk\n",
        "\n",
        "nltk.download('words')\n",
        "nltk.download('punkt')\n",
        "nltk.download('maxent_ne_chunker')\n",
        "nltk.download('averaged_perceptron_tagger')"
      ],
      "metadata": {
        "colab": {
          "base_uri": "https://localhost:8080/"
        },
        "id": "GReELnhevNVS",
        "outputId": "6b75dd81-e2f0-4965-9812-afab802724e9"
      },
      "execution_count": 1,
      "outputs": [
        {
          "output_type": "stream",
          "name": "stderr",
          "text": [
            "[nltk_data] Downloading package words to /root/nltk_data...\n",
            "[nltk_data]   Package words is already up-to-date!\n",
            "[nltk_data] Downloading package punkt to /root/nltk_data...\n",
            "[nltk_data]   Package punkt is already up-to-date!\n",
            "[nltk_data] Downloading package maxent_ne_chunker to\n",
            "[nltk_data]     /root/nltk_data...\n",
            "[nltk_data]   Package maxent_ne_chunker is already up-to-date!\n",
            "[nltk_data] Downloading package averaged_perceptron_tagger to\n",
            "[nltk_data]     /root/nltk_data...\n",
            "[nltk_data]   Package averaged_perceptron_tagger is already up-to-\n",
            "[nltk_data]       date!\n"
          ]
        },
        {
          "output_type": "execute_result",
          "data": {
            "text/plain": [
              "True"
            ]
          },
          "metadata": {},
          "execution_count": 1
        }
      ]
    },
    {
      "cell_type": "code",
      "source": [
        "text = \"The future belongs to those who believe in the beauty of their dreams.\"\n",
        "words = word_tokenize(text)\n",
        "\n",
        "tagged_words = pos_tag(words)"
      ],
      "metadata": {
        "id": "PwRl8y9DvNSC"
      },
      "execution_count": 2,
      "outputs": []
    },
    {
      "cell_type": "code",
      "source": [
        "for word, tag in tagged_words:\n",
        "    print(f\"{word}: {tag}\")"
      ],
      "metadata": {
        "colab": {
          "base_uri": "https://localhost:8080/"
        },
        "id": "6ARxWnFtvNNr",
        "outputId": "3d89c897-f861-498e-c441-8be938424dbf"
      },
      "execution_count": 3,
      "outputs": [
        {
          "output_type": "stream",
          "name": "stdout",
          "text": [
            "The: DT\n",
            "future: JJ\n",
            "belongs: NNS\n",
            "to: TO\n",
            "those: DT\n",
            "who: WP\n",
            "believe: VBP\n",
            "in: IN\n",
            "the: DT\n",
            "beauty: NN\n",
            "of: IN\n",
            "their: PRP$\n",
            "dreams: NNS\n",
            ".: .\n"
          ]
        }
      ]
    },
    {
      "cell_type": "code",
      "source": [
        "ne_tree = ne_chunk(tagged_words)\n",
        "print(ne_tree)\n"
      ],
      "metadata": {
        "colab": {
          "base_uri": "https://localhost:8080/"
        },
        "id": "WpLf8sNOu6kD",
        "outputId": "ba7ce3d5-3081-4731-97a0-0d43cc659a99"
      },
      "execution_count": 4,
      "outputs": [
        {
          "output_type": "stream",
          "name": "stdout",
          "text": [
            "(S\n",
            "  The/DT\n",
            "  future/JJ\n",
            "  belongs/NNS\n",
            "  to/TO\n",
            "  those/DT\n",
            "  who/WP\n",
            "  believe/VBP\n",
            "  in/IN\n",
            "  the/DT\n",
            "  beauty/NN\n",
            "  of/IN\n",
            "  their/PRP$\n",
            "  dreams/NNS\n",
            "  ./.)\n"
          ]
        }
      ]
    }
  ]
}