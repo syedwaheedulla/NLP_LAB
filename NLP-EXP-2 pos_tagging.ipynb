{
 "cells": [
  {
   "cell_type": "code",
   "execution_count": 1,
   "id": "1557b628",
   "metadata": {},
   "outputs": [
    {
     "name": "stdout",
     "output_type": "stream",
     "text": [
      "Original Sentence: The quick brown fox jumps over the lazy dog, and the cat watches from the windowsill.\n",
      "\n",
      "PoS Tags: [('The', 'DT'), ('quick', 'JJ'), ('brown', 'NN'), ('fox', 'NN'), ('jumps', 'VBZ'), ('over', 'IN'), ('the', 'DT'), ('lazy', 'JJ'), ('dog', 'NN'), (',', ','), ('and', 'CC'), ('the', 'DT'), ('cat', 'NN'), ('watches', 'NNS'), ('from', 'IN'), ('the', 'DT'), ('windowsill', 'NN'), ('.', '.')]\n",
      "\n",
      "Chunked Sentence:\n",
      "(S\n",
      "  (NP The/DT quick/JJ brown/NN fox/NN)\n",
      "  jumps/VBZ\n",
      "  over/IN\n",
      "  (NP the/DT lazy/JJ dog/NN)\n",
      "  ,/,\n",
      "  and/CC\n",
      "  (NP the/DT cat/NN watches/NNS)\n",
      "  from/IN\n",
      "  (NP the/DT windowsill/NN)\n",
      "  ./.)\n"
     ]
    },
    {
     "name": "stderr",
     "output_type": "stream",
     "text": [
      "[nltk_data] Downloading package averaged_perceptron_tagger to\n",
      "[nltk_data]     /Users/milanprakash/nltk_data...\n",
      "[nltk_data]   Package averaged_perceptron_tagger is already up-to-\n",
      "[nltk_data]       date!\n"
     ]
    }
   ],
   "source": [
    "import nltk\n",
    "nltk.download('averaged_perceptron_tagger')\n",
    "from nltk.tokenize import word_tokenize\n",
    "from nltk import pos_tag, RegexpParser\n",
    "\n",
    "# Sample sentence with more complex structure\n",
    "sentence = \"The quick brown fox jumps over the lazy dog, and the cat watches from the windowsill.\"\n",
    "\n",
    "# Tokenize the sentence\n",
    "tokens = word_tokenize(sentence)\n",
    "\n",
    "# Perform PoS tagging\n",
    "pos_tags = pos_tag(tokens)\n",
    "\n",
    "# Define a chunking grammar\n",
    "grammar = r\"\"\"\n",
    "    NP: {<DT|JJ|NN.*>+}          # Chunk sequences of DT, JJ, NN\n",
    "    VP: {<VB.*><NP|PP|CLAUSE>+$}  # Chunk verbs and their arguments\n",
    "    CLAUSE: {<NP><VP>}            # Chunk NP, VP pairs\n",
    "\"\"\"\n",
    "\n",
    "# Create a chunk parser with the defined grammar\n",
    "chunk_parser = RegexpParser(grammar)\n",
    "\n",
    "# Parse the PoS tagged sentence\n",
    "chunks = chunk_parser.parse(pos_tags)\n",
    "\n",
    "# Output the original sentence, PoS tags, and chunked sentence\n",
    "print(\"Original Sentence:\", sentence)\n",
    "print(\"\\nPoS Tags:\", pos_tags)\n",
    "print(\"\\nChunked Sentence:\")\n",
    "print(chunks)\n"
   ]
  },
  {
   "cell_type": "code",
   "execution_count": null,
   "id": "24bf2abe",
   "metadata": {},
   "outputs": [],
   "source": []
  }
 ],
 "metadata": {
  "kernelspec": {
   "display_name": "Python 3 (ipykernel)",
   "language": "python",
   "name": "python3"
  },
  "language_info": {
   "codemirror_mode": {
    "name": "ipython",
    "version": 3
   },
   "file_extension": ".py",
   "mimetype": "text/x-python",
   "name": "python",
   "nbconvert_exporter": "python",
   "pygments_lexer": "ipython3",
   "version": "3.11.5"
  }
 },
 "nbformat": 4,
 "nbformat_minor": 5
}
