{
 "cells": [
  {
   "cell_type": "code",
   "execution_count": 22,
   "id": "4a7f6af4",
   "metadata": {},
   "outputs": [
    {
     "name": "stdout",
     "output_type": "stream",
     "text": [
      "Requirement already satisfied: nltk in ./anaconda3/lib/python3.11/site-packages (3.8.1)\n",
      "Requirement already satisfied: click in ./anaconda3/lib/python3.11/site-packages (from nltk) (8.0.4)\n",
      "Requirement already satisfied: joblib in ./anaconda3/lib/python3.11/site-packages (from nltk) (1.2.0)\n",
      "Requirement already satisfied: regex>=2021.8.3 in ./anaconda3/lib/python3.11/site-packages (from nltk) (2022.7.9)\n",
      "Requirement already satisfied: tqdm in ./anaconda3/lib/python3.11/site-packages (from nltk) (4.65.0)\n",
      "Requirement already satisfied: emoji in ./anaconda3/lib/python3.11/site-packages (2.10.1)\n"
     ]
    }
   ],
   "source": [
    "!pip install nltk\n",
    "!pip install emoji\n",
    "import nltk\n",
    "import emoji"
   ]
  },
  {
   "cell_type": "code",
   "execution_count": 23,
   "id": "2842c0e4",
   "metadata": {},
   "outputs": [],
   "source": [
    "from nltk.tokenize import word_tokenize\n",
    "from nltk.corpus import opinion_lexicon,stopwords"
   ]
  },
  {
   "cell_type": "code",
   "execution_count": 24,
   "id": "d58b9274",
   "metadata": {},
   "outputs": [
    {
     "name": "stderr",
     "output_type": "stream",
     "text": [
      "[nltk_data] Downloading package punkt to\n",
      "[nltk_data]     /Users/rashazrafeeque/nltk_data...\n",
      "[nltk_data]   Package punkt is already up-to-date!\n",
      "[nltk_data] Downloading package opinion_lexicon to\n",
      "[nltk_data]     /Users/rashazrafeeque/nltk_data...\n",
      "[nltk_data]   Package opinion_lexicon is already up-to-date!\n",
      "[nltk_data] Downloading package stopwords to\n",
      "[nltk_data]     /Users/rashazrafeeque/nltk_data...\n",
      "[nltk_data]   Package stopwords is already up-to-date!\n"
     ]
    },
    {
     "data": {
      "text/plain": [
       "True"
      ]
     },
     "execution_count": 24,
     "metadata": {},
     "output_type": "execute_result"
    }
   ],
   "source": [
    "nltk.download('punkt')\n",
    "nltk.download('opinion_lexicon')\n",
    "nltk.download('stopwords')"
   ]
  },
  {
   "cell_type": "code",
   "execution_count": 25,
   "id": "5155969e",
   "metadata": {},
   "outputs": [],
   "source": [
    "def sentiment(review):\n",
    "    positive_words = set(opinion_lexicon.positive())\n",
    "    negative_words = set(opinion_lexicon.negative())\n",
    "    \n",
    "    positive_emoji = set(['😊', '😄', '🙂', '😃', '😍'])\n",
    "    negative_emoji = set(['😞', '😔', '😢', '😭', '😡']) \n",
    "    \n",
    "    tokens = word_tokenize(review.lower())\n",
    "    \n",
    "    stop_words=set(stopwords.words('english'))\n",
    "    tokens = [word for word in tokens if word not in stop_words]\n",
    "    \n",
    "    pos_count=sum(word in positive_words or word in positive_emoji for word in tokens)\n",
    "    neg_count=sum(word in negative_words or word in negative_emoji for word in tokens)\n",
    "    \n",
    "    \n",
    "    if pos_count>neg_count:\n",
    "        return \"Positive\"\n",
    "    elif neg_count>pos_count:\n",
    "        return \"Negative\"\n",
    "    else:\n",
    "        return \"Neutral\"\n",
    "    "
   ]
  },
  {
   "cell_type": "code",
   "execution_count": 26,
   "id": "1715bd47",
   "metadata": {},
   "outputs": [],
   "source": [
    "def analyze_sentiment_from_file(file_path):\n",
    "    try:\n",
    "        with open(file_path, 'r', encoding='utf-8') as file:\n",
    "            review = file.read()\n",
    "            sentiment_value = sentiment(review)\n",
    "            return sentiment_value\n",
    "    except FileNotFoundError:\n",
    "        return \"File not found\"\n",
    "    except Exception as e:\n",
    "        return f\"An error occurred: {str(e)}\""
   ]
  },
  {
   "cell_type": "code",
   "execution_count": 27,
   "id": "d159febb",
   "metadata": {},
   "outputs": [],
   "source": [
    "def main():\n",
    "    print(\"Amazon Product Review Analysis\")\n",
    "    print(\"==============================\")\n",
    "    \n",
    "    file_path=\"/Users/rashazrafeeque/Downloads/Product review.txt\"\n",
    "    sentiment_value = analyze_sentiment_from_file(file_path)\n",
    "    print(f\"\\n Sentiment: {sentiment_value}\")"
   ]
  },
  {
   "cell_type": "code",
   "execution_count": 28,
   "id": "9ae1a37c",
   "metadata": {},
   "outputs": [
    {
     "name": "stdout",
     "output_type": "stream",
     "text": [
      "Amazon Product Review Analysis\n",
      "==============================\n",
      "\n",
      " Sentiment: Positive\n"
     ]
    }
   ],
   "source": [
    "if __name__==\"__main__\":\n",
    "    main()"
   ]
  },
  {
   "cell_type": "code",
   "execution_count": null,
   "id": "af46b489",
   "metadata": {},
   "outputs": [],
   "source": []
  }
 ],
 "metadata": {
  "kernelspec": {
   "display_name": "Python 3 (ipykernel)",
   "language": "python",
   "name": "python3"
  },
  "language_info": {
   "codemirror_mode": {
    "name": "ipython",
    "version": 3
   },
   "file_extension": ".py",
   "mimetype": "text/x-python",
   "name": "python",
   "nbconvert_exporter": "python",
   "pygments_lexer": "ipython3",
   "version": "3.11.5"
  }
 },
 "nbformat": 4,
 "nbformat_minor": 5
}
