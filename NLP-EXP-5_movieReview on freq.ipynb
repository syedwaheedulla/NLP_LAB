{
 "cells": [
  {
   "cell_type": "code",
   "execution_count": 5,
   "id": "d07ce500",
   "metadata": {},
   "outputs": [
    {
     "name": "stderr",
     "output_type": "stream",
     "text": [
      "[nltk_data] Downloading package movie_reviews to\n",
      "[nltk_data]     /Users/milanprakash/nltk_data...\n",
      "[nltk_data]   Package movie_reviews is already up-to-date!\n"
     ]
    },
    {
     "name": "stdout",
     "output_type": "stream",
     "text": [
      "Accuracy: 0.735\n",
      "Sentiment: Negative\n"
     ]
    }
   ],
   "source": [
    "import nltk\n",
    "from nltk.corpus import movie_reviews\n",
    "from nltk.classify import NaiveBayesClassifier\n",
    "from nltk.classify.util import accuracy\n",
    "\n",
    "nltk.download('movie_reviews')\n",
    "\n",
    "def extract_features(words):\n",
    "    return dict([(word, True) for word in words])\n",
    "\n",
    "positive_reviews = [(extract_features(movie_reviews.words(fileids=[f])), 'Positive') for f in movie_reviews.fileids('pos')]\n",
    "negative_reviews = [(extract_features(movie_reviews.words(fileids=[f])), 'Negative') for f in movie_reviews.fileids('neg')]\n",
    "\n",
    "split = 800\n",
    "train_set = positive_reviews[:split] + negative_reviews[:split]\n",
    "test_set = positive_reviews[split:] + negative_reviews[split:]\n",
    "\n",
    "classifier = NaiveBayesClassifier.train(train_set)\n",
    "\n",
    "print(\"Accuracy:\", accuracy(classifier, test_set))\n",
    "\n",
    "review = \"movie good.\"\n",
    "words = nltk.word_tokenize(review)\n",
    "features = extract_features(words)\n",
    "print(\"Sentiment:\", classifier.classify(features))\n"
   ]
  },
  {
   "cell_type": "code",
   "execution_count": null,
   "id": "ddc44f7b",
   "metadata": {},
   "outputs": [],
   "source": []
  }
 ],
 "metadata": {
  "kernelspec": {
   "display_name": "Python 3 (ipykernel)",
   "language": "python",
   "name": "python3"
  },
  "language_info": {
   "codemirror_mode": {
    "name": "ipython",
    "version": 3
   },
   "file_extension": ".py",
   "mimetype": "text/x-python",
   "name": "python",
   "nbconvert_exporter": "python",
   "pygments_lexer": "ipython3",
   "version": "3.11.5"
  }
 },
 "nbformat": 4,
 "nbformat_minor": 5
}
