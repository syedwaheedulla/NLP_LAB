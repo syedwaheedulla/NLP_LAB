{
 "cells": [
  {
   "cell_type": "code",
   "execution_count": 5,
   "id": "06a6b278",
   "metadata": {},
   "outputs": [
    {
     "name": "stdout",
     "output_type": "stream",
     "text": [
      "Stemmed Words:\n",
      "['the', 'quick', 'brown', 'fox', 'are', 'jump', 'over', 'the', 'lazi', 'dog', '.', 'they', 'also', 'love', 'run', 'in', 'the', 'field', '.']\n",
      "\n",
      "Lemmatized Words:\n",
      "['The', 'quick', 'brown', 'fox', 'are', 'jumping', 'over', 'the', 'lazy', 'dog', '.', 'They', 'also', 'love', 'running', 'in', 'the', 'field', '.']\n"
     ]
    },
    {
     "name": "stderr",
     "output_type": "stream",
     "text": [
      "[nltk_data] Downloading package omw-1.4 to\n",
      "[nltk_data]     /Users/milanprakash/nltk_data...\n",
      "[nltk_data]   Package omw-1.4 is already up-to-date!\n",
      "[nltk_data] Downloading package punkt to\n",
      "[nltk_data]     /Users/milanprakash/nltk_data...\n",
      "[nltk_data]   Package punkt is already up-to-date!\n",
      "[nltk_data] Downloading package wordnet to\n",
      "[nltk_data]     /Users/milanprakash/nltk_data...\n",
      "[nltk_data]   Package wordnet is already up-to-date!\n",
      "[nltk_data] Downloading package stopwords to\n",
      "[nltk_data]     /Users/milanprakash/nltk_data...\n",
      "[nltk_data]   Package stopwords is already up-to-date!\n"
     ]
    }
   ],
   "source": [
    "import nltk               # importing the main library natural language toolkit\n",
    "nltk.download('omw-1.4')  # downloading the open multilingual wordnet v1.4\n",
    "from nltk.stem import PorterStemmer, WordNetLemmatizer  # importing porterstemmer and wordnetlemmatizer\n",
    "from nltk.corpus import stopwords  # importing stopwords library\n",
    "nltk.download('punkt')             # importing extra libraries for extra functionality\n",
    "nltk.download('wordnet')\n",
    "nltk.download('stopwords')\n",
    "text = \"The quick brown foxes are jumping over the lazy dogs. They also love running in the fields.\"\n",
    "tokens = nltk.word_tokenize(text)  # tokenizing the words into small tokens\n",
    "stemmer = PorterStemmer()          # creating object for porterstemmer\n",
    "stemmed_words = [stemmer.stem(word) for word in tokens]  # performing the stemming function\n",
    "\n",
    "print(\"Stemmed Words:\")\n",
    "print(stemmed_words)               # printing the stemmed words\n",
    "print()\n",
    "lemmatizer = WordNetLemmatizer()   # creating the lemmatizer object\n",
    "lemmatized_words = [lemmatizer.lemmatize(word) for word in tokens]  # performing the lemmatization\n",
    "\n",
    "print(\"Lemmatized Words:\")\n",
    "print(lemmatized_words)            # printing the lemmatized words\n",
    "\n",
    "# code by: \"Milan prakash 21bcs6667\"\n"
   ]
  },
  {
   "cell_type": "code",
   "execution_count": null,
   "id": "34a3d05e",
   "metadata": {},
   "outputs": [],
   "source": []
  }
 ],
 "metadata": {
  "kernelspec": {
   "display_name": "Python 3 (ipykernel)",
   "language": "python",
   "name": "python3"
  },
  "language_info": {
   "codemirror_mode": {
    "name": "ipython",
    "version": 3
   },
   "file_extension": ".py",
   "mimetype": "text/x-python",
   "name": "python",
   "nbconvert_exporter": "python",
   "pygments_lexer": "ipython3",
   "version": "3.11.5"
  }
 },
 "nbformat": 4,
 "nbformat_minor": 5
}
