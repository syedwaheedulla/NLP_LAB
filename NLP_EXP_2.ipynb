{
  "nbformat": 4,
  "nbformat_minor": 0,
  "metadata": {
    "colab": {
      "provenance": []
    },
    "kernelspec": {
      "name": "python3",
      "display_name": "Python 3"
    },
    "language_info": {
      "name": "python"
    }
  },
  "cells": [
    {
      "cell_type": "code",
      "source": [
        "text=(\"Natural language processing (NLP) is a field of artificial intelligence that focuses on the interaction between computers and humans through natural language. NLP aims to enable computers to understand, interpret, and generate human-like text. It involves various tasks such as text classification, sentiment analysis, and language translation. The PorterStemmer algorithm is commonly used in NLP to perform stemming, which reduces words to their base or root forms. This helps in simplifying text data for analysis and improving the efficiency of language-related tasks.\")\n"
      ],
      "metadata": {
        "id": "_v0go_4Tjiyg"
      },
      "execution_count": 16,
      "outputs": []
    },
    {
      "cell_type": "code",
      "execution_count": 30,
      "metadata": {
        "colab": {
          "base_uri": "https://localhost:8080/"
        },
        "id": "S3075rPAf9sL",
        "outputId": "f2653af7-dad3-4722-b2a5-8efb59ab15cf"
      },
      "outputs": [
        {
          "output_type": "stream",
          "name": "stdout",
          "text": [
            "Natural language processing (NLP) is a field of artificial intelligence that focuses on the interaction between computers and humans through natural language. NLP aims to enable computers to understand, interpret, and generate human-like text. It involves various tasks such as text classification, sentiment analysis, and language translation. The PorterStemmer algorithm is commonly used in NLP to perform stemming, which reduces words to their base or root forms. This helps in simplifying text data for analysis and improving the efficiency of language-related tasks.\n",
            "natural language processing (nlp) is a field of artificial intelligence that focuses on the interaction between computers and humans through natural language. nlp aims to enable computers to understand, interpret, and generate human-like text. it involves various tasks such as text classification, sentiment analysis, and language translation. the porterstemmer algorithm is commonly used in nlp to perform stemming, which reduces words to their base or root forms. this helps in simplifying text data for analysis and improving the efficiency of language-related tasks.\n",
            "believ\n"
          ]
        }
      ],
      "source": [
        "from nltk.stem import PorterStemmer\n",
        "\n",
        "stemming_word = PorterStemmer()\n",
        "print(text)\n",
        "print(stemming_word.stem(text))\n",
        "print(stemming_word.stem('believe'))\n"
      ]
    },
    {
      "cell_type": "code",
      "source": [
        "import nltk\n",
        "from nltk.stem import LancasterStemmer\n",
        "\n",
        "stemming_word_lan = LancasterStemmer()\n",
        "print(text)\n",
        "print(stemming_word_lan.stem(text))\n"
      ],
      "metadata": {
        "colab": {
          "base_uri": "https://localhost:8080/"
        },
        "id": "VXNvUrcShgzV",
        "outputId": "b496e57d-9708-4260-ad3d-8993770242c7"
      },
      "execution_count": 28,
      "outputs": [
        {
          "output_type": "stream",
          "name": "stdout",
          "text": [
            "Natural language processing (NLP) is a field of artificial intelligence that focuses on the interaction between computers and humans through natural language. NLP aims to enable computers to understand, interpret, and generate human-like text. It involves various tasks such as text classification, sentiment analysis, and language translation. The PorterStemmer algorithm is commonly used in NLP to perform stemming, which reduces words to their base or root forms. This helps in simplifying text data for analysis and improving the efficiency of language-related tasks.\n",
            "natural language processing (nlp) is a field of artificial intelligence that focuses on the interaction between computers and humans through natural language. nlp aims to enable computers to understand, interpret, and generate human-like text. it involves various tasks such as text classification, sentiment analysis, and language translation. the porterstemmer algorithm is commonly used in nlp to perform stemming, which reduces words to their base or root forms. this helps in simplifying text data for analysis and improving the efficiency of language-related tasks.\n"
          ]
        }
      ]
    },
    {
      "cell_type": "code",
      "source": [
        "import nltk\n",
        "from nltk.stem import RegexpStemmer, SnowballStemmer, WordNetLemmatizer\n"
      ],
      "metadata": {
        "id": "Vvb_XX-XhzPy"
      },
      "execution_count": 8,
      "outputs": []
    },
    {
      "cell_type": "code",
      "source": [
        "# RegexpStemmer\n",
        "stemming_word_reg = RegexpStemmer('ing')\n",
        "print(stemming_word_reg.stem('reading'))\n",
        "print(stemming_word_reg.stem('ingread'))\n",
        "print(text)\n",
        "print(stemming_word_reg.stem(text))"
      ],
      "metadata": {
        "colab": {
          "base_uri": "https://localhost:8080/"
        },
        "id": "lAIz3KCeiBMH",
        "outputId": "57031093-a782-4599-fd92-5ba8f279bd3c"
      },
      "execution_count": 27,
      "outputs": [
        {
          "output_type": "stream",
          "name": "stdout",
          "text": [
            "read\n",
            "read\n",
            "Natural language processing (NLP) is a field of artificial intelligence that focuses on the interaction between computers and humans through natural language. NLP aims to enable computers to understand, interpret, and generate human-like text. It involves various tasks such as text classification, sentiment analysis, and language translation. The PorterStemmer algorithm is commonly used in NLP to perform stemming, which reduces words to their base or root forms. This helps in simplifying text data for analysis and improving the efficiency of language-related tasks.\n",
            "Natural language process (NLP) is a field of artificial intelligence that focuses on the interaction between computers and humans through natural language. NLP aims to enable computers to understand, interpret, and generate human-like text. It involves various tasks such as text classification, sentiment analysis, and language translation. The PorterStemmer algorithm is commonly used in NLP to perform stemm, which reduces words to their base or root forms. This helps in simplify text data for analysis and improv the efficiency of language-related tasks.\n"
          ]
        }
      ]
    },
    {
      "cell_type": "code",
      "source": [
        "lang_french = SnowballStemmer('french')\n",
        "print(lang_french.stem('bonjoura'))\n",
        "\n",
        "lang_english = SnowballStemmer('english')\n",
        "print(text)\n",
        "print(lang_english.stem(text))\n",
        "print(lang_english.stem('reading'))"
      ],
      "metadata": {
        "colab": {
          "base_uri": "https://localhost:8080/"
        },
        "id": "JIIOo_X3iM8v",
        "outputId": "d636565b-6f47-47ba-da76-92cdf9fa716f"
      },
      "execution_count": 34,
      "outputs": [
        {
          "output_type": "stream",
          "name": "stdout",
          "text": [
            "bonjour\n",
            "Natural language processing (NLP) is a field of artificial intelligence that focuses on the interaction between computers and humans through natural language. NLP aims to enable computers to understand, interpret, and generate human-like text. It involves various tasks such as text classification, sentiment analysis, and language translation. The PorterStemmer algorithm is commonly used in NLP to perform stemming, which reduces words to their base or root forms. This helps in simplifying text data for analysis and improving the efficiency of language-related tasks.\n",
            "natural language processing (nlp) is a field of artificial intelligence that focuses on the interaction between computers and humans through natural language. nlp aims to enable computers to understand, interpret, and generate human-like text. it involves various tasks such as text classification, sentiment analysis, and language translation. the porterstemmer algorithm is commonly used in nlp to perform stemming, which reduces words to their base or root forms. this helps in simplifying text data for analysis and improving the efficiency of language-related tasks.\n",
            "read\n"
          ]
        }
      ]
    },
    {
      "cell_type": "code",
      "source": [
        "import nltk\n",
        "from nltk.stem import PorterStemmer, LancasterStemmer, SnowballStemmer, WordNetLemmatizer\n",
        "from nltk.corpus import wordnet\n",
        "from nltk.tokenize import word_tokenize\n",
        "import re"
      ],
      "metadata": {
        "id": "qj5zR_x1jgut"
      },
      "execution_count": 36,
      "outputs": []
    },
    {
      "cell_type": "code",
      "source": [
        "nltk.download('punkt')\n",
        "nltk.download('wordnet')"
      ],
      "metadata": {
        "colab": {
          "base_uri": "https://localhost:8080/"
        },
        "id": "arsxCxtqmkFy",
        "outputId": "306981f4-21fb-41ac-d2c2-70864d8354b3"
      },
      "execution_count": 37,
      "outputs": [
        {
          "output_type": "stream",
          "name": "stderr",
          "text": [
            "[nltk_data] Downloading package punkt to /root/nltk_data...\n",
            "[nltk_data]   Unzipping tokenizers/punkt.zip.\n",
            "[nltk_data] Downloading package wordnet to /root/nltk_data...\n",
            "[nltk_data]   Package wordnet is already up-to-date!\n"
          ]
        },
        {
          "output_type": "execute_result",
          "data": {
            "text/plain": [
              "True"
            ]
          },
          "metadata": {},
          "execution_count": 37
        }
      ]
    },
    {
      "cell_type": "code",
      "source": [
        "\n",
        "ex_lemma = WordNetLemmatizer()\n",
        "print(text)\n",
        "print(ex_lemma.lemmatize(text))\n",
        "print(ex_lemma.lemmatize('sweets'))\n",
        "print(ex_lemma.lemmatize('believe'))"
      ],
      "metadata": {
        "colab": {
          "base_uri": "https://localhost:8080/"
        },
        "id": "BZD9AYVLiRU-",
        "outputId": "bd2e4f16-4835-4f50-86a8-46abc216554a"
      },
      "execution_count": 38,
      "outputs": [
        {
          "output_type": "stream",
          "name": "stdout",
          "text": [
            "Natural language processing (NLP) is a field of artificial intelligence that focuses on the interaction between computers and humans through natural language. NLP aims to enable computers to understand, interpret, and generate human-like text. It involves various tasks such as text classification, sentiment analysis, and language translation. The PorterStemmer algorithm is commonly used in NLP to perform stemming, which reduces words to their base or root forms. This helps in simplifying text data for analysis and improving the efficiency of language-related tasks.\n",
            "Natural language processing (NLP) is a field of artificial intelligence that focuses on the interaction between computers and humans through natural language. NLP aims to enable computers to understand, interpret, and generate human-like text. It involves various tasks such as text classification, sentiment analysis, and language translation. The PorterStemmer algorithm is commonly used in NLP to perform stemming, which reduces words to their base or root forms. This helps in simplifying text data for analysis and improving the efficiency of language-related tasks.\n",
            "sweet\n",
            "believe\n"
          ]
        }
      ]
    },
    {
      "cell_type": "code",
      "source": [
        "tokens = word_tokenize(text)"
      ],
      "metadata": {
        "id": "2pZEzdXimqYb"
      },
      "execution_count": 53,
      "outputs": []
    },
    {
      "cell_type": "code",
      "source": [
        "porter = PorterStemmer()\n",
        "lancaster = LancasterStemmer()\n",
        "snowball = SnowballStemmer('english')"
      ],
      "metadata": {
        "id": "2-pojQdMmxVd"
      },
      "execution_count": 45,
      "outputs": []
    },
    {
      "cell_type": "code",
      "source": [
        "def regex_stem(word):\n",
        "    pattern = re.compile(r'(ing|ly|ed|ious|ies|ive|es|s|ment)?$')\n",
        "    stem = re.sub(pattern, '', word)\n",
        "    return stem"
      ],
      "metadata": {
        "id": "aDECFJM8mgkg"
      },
      "execution_count": 46,
      "outputs": []
    },
    {
      "cell_type": "code",
      "source": [
        "wordnet_lemmatizer = WordNetLemmatizer()\n",
        "def wordnet_lemmatize(word):\n",
        "    lemma = wordnet_lemmatizer.lemmatize(word, pos='v')\n",
        "    return lemma"
      ],
      "metadata": {
        "id": "84HFq8Rgm6Af"
      },
      "execution_count": 50,
      "outputs": []
    },
    {
      "cell_type": "code",
      "source": [
        "porter_stemmed = [porter.stem(token) for token in tokens]\n",
        "lancaster_stemmed = [lancaster.stem(token) for token in tokens]\n",
        "regex_stemmed = [regex_stem(token) for token in tokens]\n",
        "snowball_stemmed = [snowball.stem(token) for token in tokens]\n",
        "wordnet_lemmatized = [wordnet_lemmatize(token) for token in tokens]"
      ],
      "metadata": {
        "id": "LbBKC_uSm9GK"
      },
      "execution_count": 52,
      "outputs": []
    },
    {
      "cell_type": "code",
      "source": [
        "print(\"Original Tokens:\", tokens)\n",
        "print(\"\\nPorter Stemmer:\", porter_stemmed)\n",
        "print(\"\\nLancaster Stemmer:\", lancaster_stemmed)\n",
        "print(\"\\nRegex Stemmer:\", regex_stemmed)\n",
        "print(\"\\nSnowball Stemmer:\", snowball_stemmed)\n",
        "print(\"\\nWordNet Lemmatizer:\", wordnet_lemmatized)"
      ],
      "metadata": {
        "colab": {
          "base_uri": "https://localhost:8080/"
        },
        "id": "LRhC5SYTnGfG",
        "outputId": "93679273-7c2a-4179-edbe-b690f4563bad"
      },
      "execution_count": 51,
      "outputs": [
        {
          "output_type": "stream",
          "name": "stdout",
          "text": [
            "Original Tokens: ['Natural', 'language', 'processing', '(', 'NLP', ')', 'is', 'a', 'field', 'of', 'artificial', 'intelligence', 'that', 'focuses', 'on', 'the', 'interaction', 'between', 'computers', 'and', 'humans', 'through', 'natural', 'language', '.', 'NLP', 'aims', 'to', 'enable', 'computers', 'to', 'understand', ',', 'interpret', ',', 'and', 'generate', 'human-like', 'text', '.', 'It', 'involves', 'various', 'tasks', 'such', 'as', 'text', 'classification', ',', 'sentiment', 'analysis', ',', 'and', 'language', 'translation', '.', 'The', 'PorterStemmer', 'algorithm', 'is', 'commonly', 'used', 'in', 'NLP', 'to', 'perform', 'stemming', ',', 'which', 'reduces', 'words', 'to', 'their', 'base', 'or', 'root', 'forms', '.', 'This', 'helps', 'in', 'simplifying', 'text', 'data', 'for', 'analysis', 'and', 'improving', 'the', 'efficiency', 'of', 'language-related', 'tasks', '.']\n",
            "\n",
            "Porter Stemmer: ['natur', 'languag', 'process', '(', 'nlp', ')', 'is', 'a', 'field', 'of', 'artifici', 'intellig', 'that', 'focus', 'on', 'the', 'interact', 'between', 'comput', 'and', 'human', 'through', 'natur', 'languag', '.', 'nlp', 'aim', 'to', 'enabl', 'comput', 'to', 'understand', ',', 'interpret', ',', 'and', 'gener', 'human-lik', 'text', '.', 'it', 'involv', 'variou', 'task', 'such', 'as', 'text', 'classif', ',', 'sentiment', 'analysi', ',', 'and', 'languag', 'translat', '.', 'the', 'porterstemm', 'algorithm', 'is', 'commonli', 'use', 'in', 'nlp', 'to', 'perform', 'stem', ',', 'which', 'reduc', 'word', 'to', 'their', 'base', 'or', 'root', 'form', '.', 'thi', 'help', 'in', 'simplifi', 'text', 'data', 'for', 'analysi', 'and', 'improv', 'the', 'effici', 'of', 'language-rel', 'task', '.']\n",
            "\n",
            "Lancaster Stemmer: ['nat', 'langu', 'process', '(', 'nlp', ')', 'is', 'a', 'field', 'of', 'art', 'intellig', 'that', 'focus', 'on', 'the', 'interact', 'between', 'comput', 'and', 'hum', 'through', 'nat', 'langu', '.', 'nlp', 'aim', 'to', 'en', 'comput', 'to', 'understand', ',', 'interpret', ',', 'and', 'gen', 'human-like', 'text', '.', 'it', 'involv', 'vary', 'task', 'such', 'as', 'text', 'class', ',', 'senty', 'analys', ',', 'and', 'langu', 'transl', '.', 'the', 'porterstem', 'algorithm', 'is', 'common', 'us', 'in', 'nlp', 'to', 'perform', 'stem', ',', 'which', 'reduc', 'word', 'to', 'their', 'bas', 'or', 'root', 'form', '.', 'thi', 'help', 'in', 'simpl', 'text', 'dat', 'for', 'analys', 'and', 'improv', 'the', 'efficy', 'of', 'language-related', 'task', '.']\n",
            "\n",
            "Regex Stemmer: ['Natural', 'language', 'process', '(', 'NLP', ')', 'i', 'a', 'field', 'of', 'artificial', 'intelligence', 'that', 'focus', 'on', 'the', 'interaction', 'between', 'computer', 'and', 'human', 'through', 'natural', 'language', '.', 'NLP', 'aim', 'to', 'enable', 'computer', 'to', 'understand', ',', 'interpret', ',', 'and', 'generate', 'human-like', 'text', '.', 'It', 'involv', 'var', 'task', 'such', 'a', 'text', 'classification', ',', 'senti', 'analysi', ',', 'and', 'language', 'translation', '.', 'The', 'PorterStemmer', 'algorithm', 'i', 'common', 'us', 'in', 'NLP', 'to', 'perform', 'stemm', ',', 'which', 'reduc', 'word', 'to', 'their', 'base', 'or', 'root', 'form', '.', 'Thi', 'help', 'in', 'simplify', 'text', 'data', 'for', 'analysi', 'and', 'improv', 'the', 'efficiency', 'of', 'language-relat', 'task', '.']\n",
            "\n",
            "Snowball Stemmer: ['natur', 'languag', 'process', '(', 'nlp', ')', 'is', 'a', 'field', 'of', 'artifici', 'intellig', 'that', 'focus', 'on', 'the', 'interact', 'between', 'comput', 'and', 'human', 'through', 'natur', 'languag', '.', 'nlp', 'aim', 'to', 'enabl', 'comput', 'to', 'understand', ',', 'interpret', ',', 'and', 'generat', 'human-lik', 'text', '.', 'it', 'involv', 'various', 'task', 'such', 'as', 'text', 'classif', ',', 'sentiment', 'analysi', ',', 'and', 'languag', 'translat', '.', 'the', 'porterstemm', 'algorithm', 'is', 'common', 'use', 'in', 'nlp', 'to', 'perform', 'stem', ',', 'which', 'reduc', 'word', 'to', 'their', 'base', 'or', 'root', 'form', '.', 'this', 'help', 'in', 'simplifi', 'text', 'data', 'for', 'analysi', 'and', 'improv', 'the', 'effici', 'of', 'language-rel', 'task', '.']\n",
            "\n",
            "WordNet Lemmatizer: ['Natural', 'language', 'process', '(', 'NLP', ')', 'be', 'a', 'field', 'of', 'artificial', 'intelligence', 'that', 'focus', 'on', 'the', 'interaction', 'between', 'computers', 'and', 'humans', 'through', 'natural', 'language', '.', 'NLP', 'aim', 'to', 'enable', 'computers', 'to', 'understand', ',', 'interpret', ',', 'and', 'generate', 'human-like', 'text', '.', 'It', 'involve', 'various', 'task', 'such', 'as', 'text', 'classification', ',', 'sentiment', 'analysis', ',', 'and', 'language', 'translation', '.', 'The', 'PorterStemmer', 'algorithm', 'be', 'commonly', 'use', 'in', 'NLP', 'to', 'perform', 'stem', ',', 'which', 'reduce', 'word', 'to', 'their', 'base', 'or', 'root', 'form', '.', 'This', 'help', 'in', 'simplify', 'text', 'data', 'for', 'analysis', 'and', 'improve', 'the', 'efficiency', 'of', 'language-related', 'task', '.']\n"
          ]
        }
      ]
    }
  ]
}