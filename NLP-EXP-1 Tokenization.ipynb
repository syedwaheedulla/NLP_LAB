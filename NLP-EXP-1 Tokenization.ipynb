{
 "cells": [
  {
   "cell_type": "code",
   "execution_count": 1,
   "id": "81063744",
   "metadata": {},
   "outputs": [
    {
     "name": "stdout",
     "output_type": "stream",
     "text": [
      "Requirement already satisfied: nltk in /Users/milanprakash/anaconda3/lib/python3.11/site-packages (3.8.1)\n",
      "Requirement already satisfied: click in /Users/milanprakash/anaconda3/lib/python3.11/site-packages (from nltk) (8.0.4)\n",
      "Requirement already satisfied: joblib in /Users/milanprakash/anaconda3/lib/python3.11/site-packages (from nltk) (1.2.0)\n",
      "Requirement already satisfied: regex>=2021.8.3 in /Users/milanprakash/anaconda3/lib/python3.11/site-packages (from nltk) (2022.7.9)\n",
      "Requirement already satisfied: tqdm in /Users/milanprakash/anaconda3/lib/python3.11/site-packages (from nltk) (4.65.0)\n",
      "Note: you may need to restart the kernel to use updated packages.\n"
     ]
    }
   ],
   "source": [
    "pip install nltk"
   ]
  },
  {
   "cell_type": "code",
   "execution_count": 2,
   "id": "dec8359f",
   "metadata": {},
   "outputs": [
    {
     "name": "stderr",
     "output_type": "stream",
     "text": [
      "[nltk_data] Downloading package punkt to\n",
      "[nltk_data]     /Users/milanprakash/nltk_data...\n",
      "[nltk_data]   Unzipping tokenizers/punkt.zip.\n"
     ]
    },
    {
     "name": "stdout",
     "output_type": "stream",
     "text": [
      "Word Tokenization:\n",
      "['NLP', 'LAB', '1', 'EXP', '1', 'apply', 'different', 'tokenization', 'techniques', 'using', 'nltk', '.', 'Will', 'learn', 'about', 'natural', 'language', 'tool-kit', '.']\n",
      "\n",
      "Sentence Tokenization:\n",
      "['NLP LAB 1 EXP 1 apply different tokenization techniques using nltk.', 'Will learn about natural language tool-kit.']\n",
      "\n",
      "RegExp Tokenization (Alphabets Only):\n",
      "['NLP', 'LAB', '1', 'EXP', '1', 'apply', 'different', 'tokenization', 'techniques', 'using', 'nltk', 'Will', 'learn', 'about', 'natural', 'language', 'tool', 'kit']\n",
      "\n",
      "RegExp Tokenization (Alphabets and Digits):\n",
      "['NLP', 'LAB', '1', 'EXP', '1', 'apply', 'different', 'tokenization', 'techniques', 'using', 'nltk', 'Will', 'learn', 'about', 'natural', 'language', 'tool', 'kit']\n",
      "\n",
      "Custom Tokenization (Splitting by Hyphens):\n",
      "['NLP LAB 1 EXP 1 apply different tokenization techniques using nltk. Will learn about natural language tool', 'kit.']\n",
      "\n",
      "Tweet Tokenization:\n",
      "['This', 'is', 'a', '#tweet', 'with', '@mentions', 'and', 'a', 'URL', ':', 'https://example.com']\n"
     ]
    }
   ],
   "source": [
    "import nltk\n",
    "nltk.download('punkt')\n",
    "from nltk.tokenize import word_tokenize, sent_tokenize, regexp_tokenize, TweetTokenizer\n",
    "\n",
    "# Sample text for demonstration\n",
    "sample_text = \"NLP LAB 1 EXP 1 apply different tokenization techniques using nltk. Will learn about natural language tool-kit.\"\n",
    "\n",
    "# Word Tokenization\n",
    "words = word_tokenize(sample_text)\n",
    "print(\"Word Tokenization:\")\n",
    "print(words)\n",
    "\n",
    "# Sentence Tokenization\n",
    "sentences = sent_tokenize(sample_text)\n",
    "print(\"\\nSentence Tokenization:\")\n",
    "print(sentences)\n",
    "\n",
    "# Regular Expression Tokenization\n",
    "# Tokenize based on words containing alphabets\n",
    "regexp_tokens = regexp_tokenize(sample_text, pattern=r'\\b\\w+\\b')\n",
    "print(\"\\nRegExp Tokenization (Alphabets Only):\")\n",
    "print(regexp_tokens)\n",
    "\n",
    "# Tokenize based on words containing alphabets and digits\n",
    "regexp_tokens_with_digits = regexp_tokenize(sample_text, pattern=r'\\b\\w+\\b|\\d+')\n",
    "print(\"\\nRegExp Tokenization (Alphabets and Digits):\")\n",
    "print(regexp_tokens_with_digits)\n",
    "\n",
    "# Custom Tokenization (e.g., splitting by hyphens)\n",
    "custom_tokens = sample_text.split('-')\n",
    "print(\"\\nCustom Tokenization (Splitting by Hyphens):\")\n",
    "print(custom_tokens)\n",
    "\n",
    "# Tweet Tokenization (Handles mentions, hashtags, and URLs)\n",
    "tweet_tokenizer = TweetTokenizer()\n",
    "tweet_tokens = tweet_tokenizer.tokenize(\"This is a #tweet with @mentions and a URL: https://example.com\")\n",
    "print(\"\\nTweet Tokenization:\")\n",
    "print(tweet_tokens)"
   ]
  }
 ],
 "metadata": {
  "kernelspec": {
   "display_name": "Python 3 (ipykernel)",
   "language": "python",
   "name": "python3"
  },
  "language_info": {
   "codemirror_mode": {
    "name": "ipython",
    "version": 3
   },
   "file_extension": ".py",
   "mimetype": "text/x-python",
   "name": "python",
   "nbconvert_exporter": "python",
   "pygments_lexer": "ipython3",
   "version": "3.11.5"
  }
 },
 "nbformat": 4,
 "nbformat_minor": 5
}
