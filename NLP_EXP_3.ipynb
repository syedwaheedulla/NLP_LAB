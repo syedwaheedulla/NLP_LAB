{
  "nbformat": 4,
  "nbformat_minor": 0,
  "metadata": {
    "colab": {
      "provenance": []
    },
    "kernelspec": {
      "name": "python3",
      "display_name": "Python 3"
    },
    "language_info": {
      "name": "python"
    }
  },
  "cells": [
    {
      "cell_type": "code",
      "source": [
        "import nltk\n",
        "from nltk.corpus import stopwords\n",
        "nltk.download('punkt')\n",
        "nltk.download('stopwords')"
      ],
      "metadata": {
        "colab": {
          "base_uri": "https://localhost:8080/"
        },
        "id": "ikuQef_xr35s",
        "outputId": "ab80b3cb-412b-404a-c75b-990696ef18c3"
      },
      "execution_count": 1,
      "outputs": [
        {
          "output_type": "stream",
          "name": "stderr",
          "text": [
            "[nltk_data] Downloading package punkt to /root/nltk_data...\n",
            "[nltk_data]   Package punkt is already up-to-date!\n",
            "[nltk_data] Downloading package stopwords to /root/nltk_data...\n",
            "[nltk_data]   Package stopwords is already up-to-date!\n"
          ]
        },
        {
          "output_type": "execute_result",
          "data": {
            "text/plain": [
              "True"
            ]
          },
          "metadata": {},
          "execution_count": 1
        }
      ]
    },
    {
      "cell_type": "code",
      "source": [
        "stop_words = stopwords.words('english')\n",
        "def remove_stop_words(tokens):\n",
        "  filtered_tokens = [token for token in tokens if token not in stop_words]\n",
        "  return filtered_tokens"
      ],
      "metadata": {
        "id": "xoogDQk_r32k"
      },
      "execution_count": 2,
      "outputs": []
    },
    {
      "cell_type": "code",
      "source": [
        "sentence = \"\"\"it is movies like these that make a jaded movie viewer thankful for the invention of the timex indiglo watch .\n",
        "based on the late 1960 ' s television show by the same name , the mod squad tells the tale of three reformed criminals under\n",
        "the employ of the police to go undercover . however , things go wrong as evidence gets stolen and they are immediately under\n",
        "suspicion . of course , the ads make it seem like so much more . quick cuts , cool music , claire dane ' s nice hair and cute outfits,\n",
        "car chases , stuff blowing up , and the like . sounds like a cool movie , does it not ? after the first fifteen minutes ,\n",
        "it quickly becomes apparent that it is not . the mod squad is certainly a slick looking production , complete with nice hair and costumes,\n",
        "but that simply isn ' t enough . the film is best described as a cross between an hour - long cop show and a music video , both stretched\n",
        "out into the span of an hour and a half . and with it comes every single clich ? . it doesn ' t really matter that the film is based\n",
        "on a television show , as most of the plot elements have been recycled from everything we ' ve already seen . the characters and acting\n",
        "is nothing spectacular , sometimes even bordering on wooden . claire danes and omar epps deliver their lines as if they are bored ,\n",
        "which really transfers onto the audience . the only one to escape relatively unscathed is giovanni ribisi , who plays the resident crazy man ,\n",
        "ultimately being the only thing worth watching .\"\"\"\n",
        "\n",
        "tokens = nltk.word_tokenize(\" \".join(x.strip() for x in sentence.split()))\n",
        "filtered_tokens = remove_stop_words(tokens)"
      ],
      "metadata": {
        "id": "a9M70L-Ur3w8"
      },
      "execution_count": 4,
      "outputs": []
    },
    {
      "cell_type": "code",
      "source": [
        "print(\"Original tokens:\", tokens)\n",
        "print(\"Filtered tokens:\", filtered_tokens)"
      ],
      "metadata": {
        "colab": {
          "base_uri": "https://localhost:8080/"
        },
        "id": "FPdNELMZr3o1",
        "outputId": "46069252-c980-4eb3-e745-c3864f0c6885"
      },
      "execution_count": 5,
      "outputs": [
        {
          "output_type": "stream",
          "name": "stdout",
          "text": [
            "Original tokens: ['it', 'is', 'movies', 'like', 'these', 'that', 'make', 'a', 'jaded', 'movie', 'viewer', 'thankful', 'for', 'the', 'invention', 'of', 'the', 'timex', 'indiglo', 'watch', '.', 'based', 'on', 'the', 'late', '1960', \"'\", 's', 'television', 'show', 'by', 'the', 'same', 'name', ',', 'the', 'mod', 'squad', 'tells', 'the', 'tale', 'of', 'three', 'reformed', 'criminals', 'under', 'the', 'employ', 'of', 'the', 'police', 'to', 'go', 'undercover', '.', 'however', ',', 'things', 'go', 'wrong', 'as', 'evidence', 'gets', 'stolen', 'and', 'they', 'are', 'immediately', 'under', 'suspicion', '.', 'of', 'course', ',', 'the', 'ads', 'make', 'it', 'seem', 'like', 'so', 'much', 'more', '.', 'quick', 'cuts', ',', 'cool', 'music', ',', 'claire', 'dane', \"'\", 's', 'nice', 'hair', 'and', 'cute', 'outfits', ',', 'car', 'chases', ',', 'stuff', 'blowing', 'up', ',', 'and', 'the', 'like', '.', 'sounds', 'like', 'a', 'cool', 'movie', ',', 'does', 'it', 'not', '?', 'after', 'the', 'first', 'fifteen', 'minutes', ',', 'it', 'quickly', 'becomes', 'apparent', 'that', 'it', 'is', 'not', '.', 'the', 'mod', 'squad', 'is', 'certainly', 'a', 'slick', 'looking', 'production', ',', 'complete', 'with', 'nice', 'hair', 'and', 'costumes', ',', 'but', 'that', 'simply', 'isn', \"'\", 't', 'enough', '.', 'the', 'film', 'is', 'best', 'described', 'as', 'a', 'cross', 'between', 'an', 'hour', '-', 'long', 'cop', 'show', 'and', 'a', 'music', 'video', ',', 'both', 'stretched', 'out', 'into', 'the', 'span', 'of', 'an', 'hour', 'and', 'a', 'half', '.', 'and', 'with', 'it', 'comes', 'every', 'single', 'clich', '?', '.', 'it', 'doesn', \"'\", 't', 'really', 'matter', 'that', 'the', 'film', 'is', 'based', 'on', 'a', 'television', 'show', ',', 'as', 'most', 'of', 'the', 'plot', 'elements', 'have', 'been', 'recycled', 'from', 'everything', 'we', \"'\", 've', 'already', 'seen', '.', 'the', 'characters', 'and', 'acting', 'is', 'nothing', 'spectacular', ',', 'sometimes', 'even', 'bordering', 'on', 'wooden', '.', 'claire', 'danes', 'and', 'omar', 'epps', 'deliver', 'their', 'lines', 'as', 'if', 'they', 'are', 'bored', ',', 'which', 'really', 'transfers', 'onto', 'the', 'audience', '.', 'the', 'only', 'one', 'to', 'escape', 'relatively', 'unscathed', 'is', 'giovanni', 'ribisi', ',', 'who', 'plays', 'the', 'resident', 'crazy', 'man', ',', 'ultimately', 'being', 'the', 'only', 'thing', 'worth', 'watching', '.']\n",
            "Filtered tokens: ['movies', 'like', 'make', 'jaded', 'movie', 'viewer', 'thankful', 'invention', 'timex', 'indiglo', 'watch', '.', 'based', 'late', '1960', \"'\", 'television', 'show', 'name', ',', 'mod', 'squad', 'tells', 'tale', 'three', 'reformed', 'criminals', 'employ', 'police', 'go', 'undercover', '.', 'however', ',', 'things', 'go', 'wrong', 'evidence', 'gets', 'stolen', 'immediately', 'suspicion', '.', 'course', ',', 'ads', 'make', 'seem', 'like', 'much', '.', 'quick', 'cuts', ',', 'cool', 'music', ',', 'claire', 'dane', \"'\", 'nice', 'hair', 'cute', 'outfits', ',', 'car', 'chases', ',', 'stuff', 'blowing', ',', 'like', '.', 'sounds', 'like', 'cool', 'movie', ',', '?', 'first', 'fifteen', 'minutes', ',', 'quickly', 'becomes', 'apparent', '.', 'mod', 'squad', 'certainly', 'slick', 'looking', 'production', ',', 'complete', 'nice', 'hair', 'costumes', ',', 'simply', \"'\", 'enough', '.', 'film', 'best', 'described', 'cross', 'hour', '-', 'long', 'cop', 'show', 'music', 'video', ',', 'stretched', 'span', 'hour', 'half', '.', 'comes', 'every', 'single', 'clich', '?', '.', \"'\", 'really', 'matter', 'film', 'based', 'television', 'show', ',', 'plot', 'elements', 'recycled', 'everything', \"'\", 'already', 'seen', '.', 'characters', 'acting', 'nothing', 'spectacular', ',', 'sometimes', 'even', 'bordering', 'wooden', '.', 'claire', 'danes', 'omar', 'epps', 'deliver', 'lines', 'bored', ',', 'really', 'transfers', 'onto', 'audience', '.', 'one', 'escape', 'relatively', 'unscathed', 'giovanni', 'ribisi', ',', 'plays', 'resident', 'crazy', 'man', ',', 'ultimately', 'thing', 'worth', 'watching', '.']\n"
          ]
        }
      ]
    }
  ]
}